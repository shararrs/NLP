{
 "cells": [
  {
   "cell_type": "markdown",
   "source": [
    "## Q1 & Q2\n",
    "Made the Jupyter notebook file and have NLTK installed"
   ],
   "metadata": {
    "collapsed": false,
    "pycharm": {
     "name": "#%% md\n"
    }
   }
  },
  {
   "cell_type": "markdown",
   "source": [
    "## Q3\n",
    "**Printing first 20 tokens from the text1 NLTK Text Object with tokens()**\n",
    "1. Tokens() can use context or concordance index and returns that document.\n",
    "2. Text object has two separate classes for ContextIndex(uses bidirectional index between words or by searching within the fixed area of a word) and ConcordanceIndex( uses offset location to find words)\n"
   ],
   "metadata": {
    "collapsed": false,
    "pycharm": {
     "name": "#%% md\n"
    }
   }
  },
  {
   "cell_type": "code",
   "execution_count": 175,
   "metadata": {
    "collapsed": true,
    "pycharm": {
     "name": "#%%\n"
    }
   },
   "outputs": [
    {
     "name": "stdout",
     "output_type": "stream",
     "text": [
      "['[', 'Moby', 'Dick', 'by', 'Herman', 'Melville', '1851', ']', 'ETYMOLOGY', '.', '(', 'Supplied', 'by', 'a', 'Late', 'Consumptive', 'Usher', 'to', 'a', 'Grammar']\n"
     ]
    }
   ],
   "source": [
    "import nltk\n",
    "from nltk.book import *\n",
    "tok = text1[:20]\n",
    "print(tok)"
   ]
  },
  {
   "cell_type": "markdown",
   "source": [
    "## Q4\n",
    "**concordance() with the string 'sea'**"
   ],
   "metadata": {
    "collapsed": false,
    "pycharm": {
     "name": "#%% md\n"
    }
   }
  },
  {
   "cell_type": "code",
   "execution_count": 176,
   "outputs": [
    {
     "name": "stdout",
     "output_type": "stream",
     "text": [
      "Displaying 5 of 455 matches:\n",
      " shall slay the dragon that is in the sea .\" -- ISAIAH \" And what thing soever \n",
      " S PLUTARCH ' S MORALS . \" The Indian Sea breedeth the most and the biggest fis\n",
      "cely had we proceeded two days on the sea , when about sunrise a great many Wha\n",
      "many Whales and other monsters of the sea , appeared . Among the former , one w\n",
      " waves on all sides , and beating the sea before him into a foam .\" -- TOOKE ' \n"
     ]
    }
   ],
   "source": [
    "text1.concordance('sea', lines = 5)"
   ],
   "metadata": {
    "collapsed": false,
    "pycharm": {
     "name": "#%%\n"
    }
   }
  },
  {
   "cell_type": "markdown",
   "source": [
    "## Q5\n",
    "**count() in NLTK vs built in library**\n",
    "NLTK count takes in only NLTK text objects\n",
    "Built in count takes in lists to count"
   ],
   "metadata": {
    "collapsed": false,
    "pycharm": {
     "name": "#%% md\n"
    }
   }
  },
  {
   "cell_type": "code",
   "execution_count": 177,
   "outputs": [
    {
     "name": "stdout",
     "output_type": "stream",
     "text": [
      "Count in NLTK - 433\n",
      "Count in built in python functionality - 2\n"
     ]
    }
   ],
   "source": [
    "print('Count in NLTK - ' + str(text1.count('sea')))\n",
    "ls = ['hello', 'this', 'is','Sharar', 1,2,3,4,5,6,7,8,1,2,3,4,5,6,7,8]\n",
    "print(f'Count in built in python functionality - {ls.count(1)}')"
   ],
   "metadata": {
    "collapsed": false,
    "pycharm": {
     "name": "#%%\n"
    }
   }
  },
  {
   "cell_type": "markdown",
   "source": [
    "## Q6\n",
    "**word_tokenize() tokeninzes to words given some text**"
   ],
   "metadata": {
    "collapsed": false,
    "pycharm": {
     "name": "#%% md\n"
    }
   }
  },
  {
   "cell_type": "code",
   "execution_count": 178,
   "outputs": [
    {
     "name": "stdout",
     "output_type": "stream",
     "text": [
      "['The', 'Titanfall', 'Universe', 'is', 'the', 'fictional', 'universe', 'in', 'which', 'the']\n"
     ]
    }
   ],
   "source": [
    "from nltk import word_tokenize\n",
    "\n",
    "#source of data lore from Titanfall game https://titanfall.fandom.com/wiki/Titanfall_Universe\n",
    "lore = 'The Titanfall Universe is the fictional universe in which the Titanfall series takes place. In the distant future, humanity has discovered the means of faster-than-light travel and has proceeded to colonize deep space. The first waves of colonists colonized several star systems close to Sol, these colonies becoming known as the Core Systems. However, exploration did not stop there, and soon, a dense region of habitable world was discovered; ripe with resources and valuable trade routes, this new Frontier would soon become home to many generations of humanity. However, the arrival of the Interstellar Manufacturing Corporation would tip the balance of power on the Frontier, leading to the formation of the Frontier Militia and the beginning of the Frontier War - the conflict in which the Titanfall series takes place.'\n",
    "tokens = word_tokenize(lore)\n",
    "print(tokens[:10])"
   ],
   "metadata": {
    "collapsed": false,
    "pycharm": {
     "name": "#%%\n"
    }
   }
  },
  {
   "cell_type": "markdown",
   "source": [
    "## Q7\n",
    "**sent_tokenize() tokeninzes to sentences given some text**"
   ],
   "metadata": {
    "collapsed": false,
    "pycharm": {
     "name": "#%% md\n"
    }
   }
  },
  {
   "cell_type": "code",
   "execution_count": 179,
   "outputs": [
    {
     "data": {
      "text/plain": "['The Titanfall Universe is the fictional universe in which the Titanfall series takes place.',\n 'In the distant future, humanity has discovered the means of faster-than-light travel and has proceeded to colonize deep space.',\n 'The first waves of colonists colonized several star systems close to Sol, these colonies becoming known as the Core Systems.',\n 'However, exploration did not stop there, and soon, a dense region of habitable world was discovered; ripe with resources and valuable trade routes, this new Frontier would soon become home to many generations of humanity.',\n 'However, the arrival of the Interstellar Manufacturing Corporation would tip the balance of power on the Frontier, leading to the formation of the Frontier Militia and the beginning of the Frontier War - the conflict in which the Titanfall series takes place.']"
     },
     "execution_count": 179,
     "metadata": {},
     "output_type": "execute_result"
    }
   ],
   "source": [
    "from nltk import sent_tokenize\n",
    "tokens = sent_tokenize(lore)\n",
    "tokens"
   ],
   "metadata": {
    "collapsed": false,
    "pycharm": {
     "name": "#%%\n"
    }
   }
  },
  {
   "cell_type": "markdown",
   "source": [
    "## Q8\n",
    "**NLTK's PorterStemmer() can be used to reduce words to its base form**\n",
    "**But in many cases it may give incorrect info as it disregards the context**"
   ],
   "metadata": {
    "collapsed": false,
    "pycharm": {
     "name": "#%% md\n"
    }
   }
  },
  {
   "cell_type": "code",
   "execution_count": 180,
   "outputs": [
    {
     "name": "stdout",
     "output_type": "stream",
     "text": [
      "['wait', 'run', 'abil', 'fli', 'cri', 'initi', 'loftili', 'violent', 'right', 'seldom', 'anxious', 'frequent', 'smoothli', 'safeti']\n"
     ]
    }
   ],
   "source": [
    "from nltk.stem.porter import *\n",
    "stemmer = PorterStemmer()\n",
    "words = [ 'waits', 'runs', 'ability', 'flies', 'cries', 'initializes', 'loftily','violently',\n",
    "'rightfully','seldom','anxiously','frequents','smoothly','safety']\n",
    "core = [stemmer.stem(stemmed_word) for stemmed_word in words]\n",
    "print(core)"
   ],
   "metadata": {
    "collapsed": false,
    "pycharm": {
     "name": "#%%\n"
    }
   }
  },
  {
   "cell_type": "markdown",
   "source": [
    "## Q9\n",
    "**NLTK's WordNetLemmatizer() can be used to reduce words to its base form**\n",
    "**This accounts for the context and gives more accurate base form**\n",
    "\n",
    "|---------------|--------------|----------------|\n",
    "| **Word**      | **Stemmed**  | **Lemmatized** |\n",
    "| flies         | fli          | fly            |\n",
    "| cries         | cri          | cry            |\n",
    "| safety        | safeti       | safety         |\n",
    "| runs          | run          | run            |\n",
    "| frequents     | frequent     | frequents      |\n",
    "| smoothly      | smoothli     | smoothly       |"
   ],
   "metadata": {
    "collapsed": false,
    "pycharm": {
     "name": "#%% md\n"
    }
   }
  },
  {
   "cell_type": "code",
   "execution_count": 181,
   "outputs": [
    {
     "name": "stdout",
     "output_type": "stream",
     "text": [
      "['wait', 'run', 'ability', 'fly', 'cry', 'initializes', 'loftily', 'violently', 'rightfully', 'seldom', 'anxiously', 'frequents', 'smoothly', 'safety']\n"
     ]
    }
   ],
   "source": [
    "from nltk.stem.wordnet import *\n",
    "lemmatizer = WordNetLemmatizer()\n",
    "core = [lemmatizer.lemmatize(lemmatized_word) for lemmatized_word in words]\n",
    "print(core)"
   ],
   "metadata": {
    "collapsed": false,
    "pycharm": {
     "name": "#%%\n"
    }
   }
  },
  {
   "cell_type": "markdown",
   "source": [
    "## Q10\n",
    "The NLTK Library is a great libray for learning and using in NLP. The library has many functionalities that can help us extract words. Then we can use those words anyway we want to. Give proper responses, extract data, train AI etc.\n",
    "\n",
    "The NLTK library is well written. The code can be understood easily and the documentation on it is fairly simple. It would be better if we had some example code to refer to.\n",
    "\n",
    "This library opens up a lot of possibilities for use in future projects. A few ways of the using it are,\n",
    "1. Use NLTK to extract data from a projects ReadMe.md and use the top 10 keywords to add tags for the said projects github pages.\n",
    "2. Use the extracted data to train AI for different languages.\n",
    "3. Use it to do sentiment analysis on user input in future projects"
   ],
   "metadata": {
    "collapsed": false,
    "pycharm": {
     "name": "#%% md\n"
    }
   }
  }
 ],
 "metadata": {
  "kernelspec": {
   "display_name": "Python 3",
   "language": "python",
   "name": "python3"
  },
  "language_info": {
   "codemirror_mode": {
    "name": "ipython",
    "version": 2
   },
   "file_extension": ".py",
   "mimetype": "text/x-python",
   "name": "python",
   "nbconvert_exporter": "python",
   "pygments_lexer": "ipython2",
   "version": "2.7.6"
  }
 },
 "nbformat": 4,
 "nbformat_minor": 0
}